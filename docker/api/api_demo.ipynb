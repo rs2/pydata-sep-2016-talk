{
 "cells": [
  {
   "cell_type": "code",
   "execution_count": 16,
   "metadata": {
    "collapsed": false
   },
   "outputs": [
    {
     "name": "stdout",
     "output_type": "stream",
     "text": [
      "{\"question\": \"Ultimate Question of Life, the Universe, and Everything\", \"now\": \"23:35:43\", \"answer\": 42}\n"
     ]
    }
   ],
   "source": [
    "# GET /hello/world\n",
    "import json\n",
    "import datetime\n",
    "print(json.dumps(dict(\n",
    "            question=\"Ultimate Question of Life, the Universe, and Everything\",\n",
    "            answer=42, \n",
    "            now=datetime.datetime.now().strftime('%H:%M:%S'))))"
   ]
  }
 ],
 "metadata": {
  "extensions": {
   "jupyter_dashboards": {
    "activeView": "grid_default",
    "version": 1,
    "views": {
     "grid_default": {
      "cellMargin": 10,
      "defaultCellHeight": 20,
      "maxColumns": 12,
      "name": "grid",
      "type": "grid"
     },
     "report_default": {
      "name": "report",
      "type": "report"
     }
    }
   }
  },
  "kernelspec": {
   "display_name": "Python 3",
   "language": "python",
   "name": "python3"
  },
  "language_info": {
   "codemirror_mode": {
    "name": "ipython",
    "version": 3
   },
   "file_extension": ".py",
   "mimetype": "text/x-python",
   "name": "python",
   "nbconvert_exporter": "python",
   "pygments_lexer": "ipython3",
   "version": "3.5.2"
  }
 },
 "nbformat": 4,
 "nbformat_minor": 0
}
