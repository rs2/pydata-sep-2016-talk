{
 "cells": [
  {
   "cell_type": "code",
   "execution_count": 1,
   "metadata": {
    "collapsed": false,
    "slideshow": {
     "slide_type": "skip"
    }
   },
   "outputs": [
    {
     "data": {
      "text/html": [
       "<link rel=\"stylesheet\" type=\"text/css\" href=\"custom.css\">"
      ],
      "text/plain": [
       "<IPython.core.display.HTML object>"
      ]
     },
     "metadata": {},
     "output_type": "display_data"
    }
   ],
   "source": [
    "%%HTML\n",
    "<link rel=\"stylesheet\" type=\"text/css\" href=\"custom.css\">"
   ]
  },
  {
   "cell_type": "markdown",
   "metadata": {
    "slideshow": {
     "slide_type": "slide"
    }
   },
   "source": [
    "## Jupyter Web Apps and other Jovian tricks"
   ]
  },
  {
   "cell_type": "markdown",
   "metadata": {
    "slideshow": {
     "slide_type": "subslide"
    }
   },
   "source": [
    "<img src=\"img/xkcd-jupyter2.png\" style=\"width: 100%;\"/>"
   ]
  },
  {
   "cell_type": "markdown",
   "metadata": {
    "slideshow": {
     "slide_type": "slide"
    }
   },
   "source": [
    "**Hi, I'm Pav**\n",
    "\n",
    "* rs2@github\n",
    "* 5 years of building prod apps in Python \n",
    "* Pycons, Python Dojos"
   ]
  },
  {
   "cell_type": "markdown",
   "metadata": {
    "slideshow": {
     "slide_type": "slide"
    }
   },
   "source": [
    "<img src=\"img/jupiter_clouds.jpg\" align=\"left\" style=\"width: 90%;\"/>\n",
    "<img src=\"img/my_jupiter.png\" align=\"right\" style=\"width: 30%; position: relative; top: -160px;\"/>"
   ]
  },
  {
   "cell_type": "markdown",
   "metadata": {
    "slideshow": {
     "slide_type": "slide"
    }
   },
   "source": [
    "## A bit of history\n",
    "\n",
    "`IPython` 0.0.1\n",
    "\n",
    "https://gist.github.com/fperez/1579699\n",
    "\n",
    "<img src=\"img/ipython.0.0.1.jpg\" align=\"left\" style=\"width: 100%;\"/>\n"
   ]
  },
  {
   "cell_type": "markdown",
   "metadata": {
    "slideshow": {
     "slide_type": "subslide"
    }
   },
   "source": [
    "* <p class=\"fragment highlight-current-blue\">IPython 1.0: **9 Aug 2013**</p>\n",
    " * 4,000 commits\n",
    " * 700 pull requests\n",
    "* <p class=\"fragment highlight-current-blue\">IPython 2.0: **2 Apr 2014**</p>\n",
    " * 4,000 commits\n",
    " * 650 pull requests\n",
    " * interactive widgets\n",
    "* <p class=\"fragment highlight-current-blue\">IPython 3.0: **28 Feb 2015**</p>\n",
    " * 6,000 commits\n",
    " * More kernels\n",
    " "
   ]
  },
  {
   "cell_type": "markdown",
   "metadata": {
    "slideshow": {
     "slide_type": "subslide"
    }
   },
   "source": [
    "* <p class=\"fragment highlight-current-blue\">IPython 4.0: **12 Aug 2015**</p>\n",
    " * \"The Big Split\"\n",
    "* <p class=\"fragment highlight-current-blue\">IPython 5.1.0: **13 Aug 2016**</p>"
   ]
  },
  {
   "cell_type": "markdown",
   "metadata": {
    "slideshow": {
     "slide_type": "subslide"
    }
   },
   "source": [
    "## \"The Big Split\"\n",
    "\n",
    "* `ipython`\n",
    "* `ipykernel`\n",
    "* `ipywidgets`\n",
    "* `jupyter-client`\n",
    "* `jupyter-core`"
   ]
  },
  {
   "cell_type": "markdown",
   "metadata": {
    "slideshow": {
     "slide_type": "subslide"
    }
   },
   "source": [
    "## Multi-kernel environment\n",
    "<img src=\"img/jupyter_explained.png\">"
   ]
  },
  {
   "cell_type": "code",
   "execution_count": 54,
   "metadata": {
    "collapsed": false,
    "slideshow": {
     "slide_type": "skip"
    }
   },
   "outputs": [
    {
     "name": "stdout",
     "output_type": "stream",
     "text": [
      "ipykernel==4.3.1\r\n",
      "ipython==5.0.0\r\n",
      "ipython-genutils==0.1.0\r\n",
      "ipywidgets==5.2.2\r\n",
      "jupyter-client==4.3.0\r\n",
      "jupyter-core==4.1.1\r\n",
      "jupyter-kernel-gateway==1.0.0\r\n",
      "jupyterhub==0.5.0\r\n"
     ]
    }
   ],
   "source": [
    "!pip freeze | grep '^ipy\\|^jupyter'"
   ]
  },
  {
   "cell_type": "markdown",
   "metadata": {
    "slideshow": {
     "slide_type": "slide"
    }
   },
   "source": [
    "## Notebook Lifecycle and Web Apps\n",
    "\n",
    "* Researchers think:\n",
    " * single-user environment\n",
    " * flexibility\n",
    "* DevOps/Engineers think\n",
    " * scalability\n",
    " * high availability\n",
    " * stateless/fulness"
   ]
  },
  {
   "cell_type": "markdown",
   "metadata": {
    "slideshow": {
     "slide_type": "slide"
    }
   },
   "source": [
    "## Live demo\n",
    "\n",
    "<img src=\"img/dont_try.jpg\" style=\"width: 90%;\"/>"
   ]
  },
  {
   "cell_type": "markdown",
   "metadata": {
    "slideshow": {
     "slide_type": "subslide"
    }
   },
   "source": [
    "## Do use containers!\n",
    "\n",
    "<div style=\"display: inline-block;\">\n",
    "<img src=\"img/docker.png\" align=\"left\" style=\"width: 100%;\"/>\n",
    "</div>\n",
    "\n",
    "* docker-machine\n",
    "* docker-compose\n",
    "\n",
    "<p class=\"fragment fade-up\"><img src=\"img/chuck.jpg\" align=\"right\" style=\"width: 40%;\"/></p>\n",
    "\n",
    "<div style=\"display: inline-block;\">\n",
    "<img src=\"img/conda.svg\" align=\"left\" style=\"width: 100%;\"/>\n",
    "</div>\n"
   ]
  },
  {
   "cell_type": "markdown",
   "metadata": {
    "slideshow": {
     "slide_type": "subslide"
    }
   },
   "source": [
    "### Behind the scenes\n",
    "\n",
    "1. Kernel box\n",
    " * `kernel_gateway`\n",
    "    * spawns / shuts down you kernels\n",
    "1. Notebook server box\n",
    " * (thin) `jupyter`\n",
    "    * e.g. `jupyter/minimal-notebook` docker image\n",
    " * `dashboard_bundlers`\n",
    "    * register *Deploy As* menu\n",
    " * `jupyter_dashboards` \n",
    " * `nb2kg`\n",
    "    * delegate kernel management to `kernel_gateway`\n",
    "3. Web app server\n",
    " * `node.js` `dashboards_server`"
   ]
  },
  {
   "cell_type": "markdown",
   "metadata": {
    "slideshow": {
     "slide_type": "subslide"
    }
   },
   "source": [
    "## Considerations\n",
    "\n",
    "* Notebook run time\n",
    "* Resources / memory\n",
    "* Concurrency"
   ]
  },
  {
   "cell_type": "markdown",
   "metadata": {
    "slideshow": {
     "slide_type": "slide"
    }
   },
   "source": [
    "## Microservices"
   ]
  },
  {
   "cell_type": "code",
   "execution_count": null,
   "metadata": {
    "collapsed": true
   },
   "outputs": [],
   "source": [
    "# GET /hello/world\n",
    "import json\n",
    "import datetime\n",
    "print(json.dumps(dict(\n",
    "            question=\"Ultimate Question of Life, the Universe, and Everything\",\n",
    "            answer=42, \n",
    "            now=datetime.datetime.now().strftime('%H:%M:%S'))))"
   ]
  },
  {
   "cell_type": "code",
   "execution_count": 35,
   "metadata": {
    "collapsed": false
   },
   "outputs": [
    {
     "data": {
      "text/plain": [
       "{'answer': 42,\n",
       " 'now': '18:35:46',\n",
       " 'question': 'Ultimate Question of Life, the Universe, and Everything'}"
      ]
     },
     "execution_count": 35,
     "metadata": {},
     "output_type": "execute_result"
    }
   ],
   "source": [
    "import requests\n",
    "requests.get('http://dashboards_kg_api_demo:8081/hello/world').json()"
   ]
  },
  {
   "cell_type": "markdown",
   "metadata": {
    "slideshow": {
     "slide_type": "slide"
    }
   },
   "source": [
    "## Jupyter Magic\n",
    "\n",
    "<img src=\"img/mickey.jpg\" style=\"width: 50%;\"/>"
   ]
  },
  {
   "cell_type": "code",
   "execution_count": 36,
   "metadata": {
    "collapsed": false,
    "slideshow": {
     "slide_type": "subslide"
    }
   },
   "outputs": [
    {
     "data": {
      "application/json": {
       "cell": {
        "!": "OSMagics",
        "HTML": "Other",
        "SVG": "Other",
        "bash": "Other",
        "capture": "ExecutionMagics",
        "debug": "ExecutionMagics",
        "file": "Other",
        "html": "DisplayMagics",
        "javascript": "DisplayMagics",
        "js": "DisplayMagics",
        "latex": "DisplayMagics",
        "perl": "Other",
        "prun": "ExecutionMagics",
        "pypy": "Other",
        "python": "Other",
        "python2": "Other",
        "python3": "Other",
        "ruby": "Other",
        "script": "ScriptMagics",
        "sh": "Other",
        "svg": "DisplayMagics",
        "sx": "OSMagics",
        "system": "OSMagics",
        "time": "ExecutionMagics",
        "timeit": "ExecutionMagics",
        "writefile": "OSMagics"
       },
       "line": {
        "alias": "OSMagics",
        "alias_magic": "BasicMagics",
        "autocall": "AutoMagics",
        "automagic": "AutoMagics",
        "autosave": "KernelMagics",
        "bookmark": "OSMagics",
        "cat": "Other",
        "cd": "OSMagics",
        "clear": "KernelMagics",
        "colors": "BasicMagics",
        "config": "ConfigMagics",
        "connect_info": "KernelMagics",
        "cp": "Other",
        "debug": "ExecutionMagics",
        "dhist": "OSMagics",
        "dirs": "OSMagics",
        "doctest_mode": "BasicMagics",
        "ed": "Other",
        "edit": "KernelMagics",
        "env": "OSMagics",
        "gui": "BasicMagics",
        "hist": "Other",
        "history": "HistoryMagics",
        "killbgscripts": "ScriptMagics",
        "ldir": "Other",
        "less": "KernelMagics",
        "lf": "Other",
        "lk": "Other",
        "ll": "Other",
        "load": "CodeMagics",
        "load_ext": "ExtensionMagics",
        "loadpy": "CodeMagics",
        "logoff": "LoggingMagics",
        "logon": "LoggingMagics",
        "logstart": "LoggingMagics",
        "logstate": "LoggingMagics",
        "logstop": "LoggingMagics",
        "ls": "Other",
        "lsmagic": "BasicMagics",
        "lx": "Other",
        "macro": "ExecutionMagics",
        "magic": "BasicMagics",
        "man": "KernelMagics",
        "matplotlib": "PylabMagics",
        "mkdir": "Other",
        "more": "KernelMagics",
        "mv": "Other",
        "notebook": "BasicMagics",
        "page": "BasicMagics",
        "pastebin": "CodeMagics",
        "pdb": "ExecutionMagics",
        "pdef": "NamespaceMagics",
        "pdoc": "NamespaceMagics",
        "pfile": "NamespaceMagics",
        "pinfo": "NamespaceMagics",
        "pinfo2": "NamespaceMagics",
        "popd": "OSMagics",
        "pprint": "BasicMagics",
        "precision": "BasicMagics",
        "profile": "BasicMagics",
        "prun": "ExecutionMagics",
        "psearch": "NamespaceMagics",
        "psource": "NamespaceMagics",
        "pushd": "OSMagics",
        "pwd": "OSMagics",
        "pycat": "OSMagics",
        "pylab": "PylabMagics",
        "qtconsole": "KernelMagics",
        "quickref": "BasicMagics",
        "recall": "HistoryMagics",
        "rehashx": "OSMagics",
        "reload_ext": "ExtensionMagics",
        "rep": "Other",
        "rerun": "HistoryMagics",
        "reset": "NamespaceMagics",
        "reset_selective": "NamespaceMagics",
        "rm": "Other",
        "rmdir": "Other",
        "run": "ExecutionMagics",
        "save": "CodeMagics",
        "sc": "OSMagics",
        "set_env": "OSMagics",
        "store": "StoreMagics",
        "sx": "OSMagics",
        "system": "OSMagics",
        "tb": "ExecutionMagics",
        "time": "ExecutionMagics",
        "timeit": "ExecutionMagics",
        "unalias": "OSMagics",
        "unload_ext": "ExtensionMagics",
        "who": "NamespaceMagics",
        "who_ls": "NamespaceMagics",
        "whos": "NamespaceMagics",
        "xdel": "NamespaceMagics",
        "xmode": "BasicMagics"
       }
      },
      "text/plain": [
       "Available line magics:\n",
       "%alias  %alias_magic  %autocall  %automagic  %autosave  %bookmark  %cat  %cd  %clear  %colors  %config  %connect_info  %cp  %debug  %dhist  %dirs  %doctest_mode  %ed  %edit  %env  %gui  %hist  %history  %killbgscripts  %ldir  %less  %lf  %lk  %ll  %load  %load_ext  %loadpy  %logoff  %logon  %logstart  %logstate  %logstop  %ls  %lsmagic  %lx  %macro  %magic  %man  %matplotlib  %mkdir  %more  %mv  %notebook  %page  %pastebin  %pdb  %pdef  %pdoc  %pfile  %pinfo  %pinfo2  %popd  %pprint  %precision  %profile  %prun  %psearch  %psource  %pushd  %pwd  %pycat  %pylab  %qtconsole  %quickref  %recall  %rehashx  %reload_ext  %rep  %rerun  %reset  %reset_selective  %rm  %rmdir  %run  %save  %sc  %set_env  %store  %sx  %system  %tb  %time  %timeit  %unalias  %unload_ext  %who  %who_ls  %whos  %xdel  %xmode\n",
       "\n",
       "Available cell magics:\n",
       "%%!  %%HTML  %%SVG  %%bash  %%capture  %%debug  %%file  %%html  %%javascript  %%js  %%latex  %%perl  %%prun  %%pypy  %%python  %%python2  %%python3  %%ruby  %%script  %%sh  %%svg  %%sx  %%system  %%time  %%timeit  %%writefile\n",
       "\n",
       "Automagic is ON, % prefix IS NOT needed for line magics."
      ]
     },
     "execution_count": 36,
     "metadata": {},
     "output_type": "execute_result"
    }
   ],
   "source": [
    "%lsmagic"
   ]
  },
  {
   "cell_type": "code",
   "execution_count": 37,
   "metadata": {
    "collapsed": false
   },
   "outputs": [
    {
     "name": "stdout",
     "output_type": "stream",
     "text": [
      "backups  cache\tlib  local  lock  log  mail  opt  run  spool  tmp\r\n"
     ]
    }
   ],
   "source": [
    "!ls /var"
   ]
  },
  {
   "cell_type": "code",
   "execution_count": 38,
   "metadata": {
    "collapsed": false
   },
   "outputs": [
    {
     "name": "stdout",
     "output_type": "stream",
     "text": [
      "jupyter-client==4.3.0\r\n",
      "jupyter-core==4.1.1\r\n",
      "jupyter-kernel-gateway==1.0.0\r\n",
      "jupyterhub==0.5.0\r\n"
     ]
    }
   ],
   "source": [
    "!pip freeze | grep jupyter"
   ]
  },
  {
   "cell_type": "code",
   "execution_count": 39,
   "metadata": {
    "collapsed": true,
    "slideshow": {
     "slide_type": "subslide"
    }
   },
   "outputs": [],
   "source": [
    "files = !ls /var"
   ]
  },
  {
   "cell_type": "code",
   "execution_count": 40,
   "metadata": {
    "collapsed": false
   },
   "outputs": [
    {
     "data": {
      "text/plain": [
       "('backups cache lib local lock log mail opt run spool tmp',\n",
       " 'backups\\ncache\\nlib\\nlocal\\nlock\\nlog\\nmail\\nopt\\nrun\\nspool\\ntmp',\n",
       " ['backups',\n",
       "  'cache',\n",
       "  'lib',\n",
       "  'local',\n",
       "  'lock',\n",
       "  'log',\n",
       "  'mail',\n",
       "  'opt',\n",
       "  'run',\n",
       "  'spool',\n",
       "  'tmp'])"
      ]
     },
     "execution_count": 40,
     "metadata": {},
     "output_type": "execute_result"
    }
   ],
   "source": [
    "files.s, files.n, files.l"
   ]
  },
  {
   "cell_type": "code",
   "execution_count": 41,
   "metadata": {
    "collapsed": false,
    "slideshow": {
     "slide_type": "subslide"
    }
   },
   "outputs": [],
   "source": [
    "%who?\n",
    "\n",
    "# Print all interactive variables, with some minimal formatting."
   ]
  },
  {
   "cell_type": "code",
   "execution_count": 42,
   "metadata": {
    "collapsed": false
   },
   "outputs": [
    {
     "name": "stdout",
     "output_type": "stream",
     "text": [
      "Variable   Type      Data/Info\n",
      "------------------------------\n",
      "files      SList     ['backups', 'cache', 'lib<...>', 'run', 'spool', 'tmp']\n",
      "requests   module    <module 'requests' from '<...>es/requests/__init__.py'>\n"
     ]
    }
   ],
   "source": [
    "%whos\n",
    "\n",
    "# Like %who, but gives some extra information about each variable."
   ]
  },
  {
   "cell_type": "code",
   "execution_count": 43,
   "metadata": {
    "collapsed": true,
    "slideshow": {
     "slide_type": "subslide"
    }
   },
   "outputs": [],
   "source": [
    "%logstate?"
   ]
  },
  {
   "cell_type": "code",
   "execution_count": 44,
   "metadata": {
    "collapsed": false
   },
   "outputs": [
    {
     "name": "stdout",
     "output_type": "stream",
     "text": [
      "\n",
      "Logging hasn't been started yet (use logstart for that).\n",
      "\n",
      "%logon/%logoff are for temporarily starting and stopping logging for a logfile\n",
      "which already exists. But you must first start the logging process with\n",
      "%logstart (optionally giving a logfile name).\n"
     ]
    }
   ],
   "source": [
    "%logon"
   ]
  },
  {
   "cell_type": "markdown",
   "metadata": {
    "slideshow": {
     "slide_type": "slide"
    }
   },
   "source": [
    "## Related Projects\n",
    "\n",
    "* https://github.com/jupyter/tmpnb: temporary Jupyter Notebook servers using Docker containers\n",
    "* https://github.com/jupyterhub/jupyterhub: multi-user server for Jupyter notebooks\n",
    "* http://jupyter.cloudet.xyz/: live jupiter-incubator demos, including declarative widgets\n",
    "* https://github.com/oreillymedia/thebe"
   ]
  },
  {
   "cell_type": "markdown",
   "metadata": {
    "slideshow": {
     "slide_type": "slide"
    }
   },
   "source": [
    "### References\n",
    "\n",
    "* Most images are copyright by their owners\n",
    "* jupyter-incubator stack is copyright by Jupyter Development Team"
   ]
  },
  {
   "cell_type": "markdown",
   "metadata": {
    "slideshow": {
     "slide_type": "slide"
    }
   },
   "source": [
    "<img src=\"img/thats_all.jpg\" style=\"width: 100%;\"/>"
   ]
  }
 ],
 "metadata": {
  "celltoolbar": "Slideshow",
  "kernelspec": {
   "display_name": "Python 3",
   "language": "python",
   "name": "python3"
  },
  "language_info": {
   "codemirror_mode": {
    "name": "ipython",
    "version": 3
   },
   "file_extension": ".py",
   "mimetype": "text/x-python",
   "name": "python",
   "nbconvert_exporter": "python",
   "pygments_lexer": "ipython3",
   "version": "3.5.2"
  }
 },
 "nbformat": 4,
 "nbformat_minor": 0
}
